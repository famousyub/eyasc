{
 "cells": [
  {
   "cell_type": "code",
   "execution_count": null,
   "metadata": {},
   "outputs": [],
   "source": [
    "import torch\n",
    "import syft as sy\n",
    "\n",
    "# Hook PyTorch to PySyft\n",
    "hook = sy.TorchHook(torch)\n",
    "\n",
    "# Create two virtual workers to simulate two clients\n",
    "alice = sy.VirtualWorker(hook, id=\"alice\")\n",
    "bob = sy.VirtualWorker(hook, id=\"bob\")\n",
    "\n",
    "# Generate some synthetic data for each client\n",
    "data_alice = torch.tensor([1.0, 2.0, 3.0]).send(alice)\n",
    "data_bob = torch.tensor([4.0, 5.0, 6.0]).send(bob)\n",
    "\n",
    "# Define a simple model\n",
    "model = torch.nn.Linear(1, 1)\n",
    "\n",
    "# Federated learning setup\n",
    "model = model.fix_precision().share(alice, bob)\n",
    "\n",
    "# Training on decentralized data\n",
    "for _ in range(10):\n",
    "    model.zero_grad()\n",
    "    prediction_alice = model(data_alice)\n",
    "    prediction_bob = model(data_bob)\n",
    "    loss = ((prediction_alice + prediction_bob) - 15).pow(2).sum()\n",
    "    loss.backward()\n",
    "    model.weight.data.sub_(model.weight.grad * 0.1)\n",
    "    model.bias.data.sub_(model.bias.grad * 0.1)\n",
    "\n",
    "# Securely get the trained model back\n",
    "model = model.get().float_precision()\n",
    "\n",
    "# Make predictions on a new data point\n",
    "new_data = torch.tensor([7.0])\n",
    "prediction = model(new_data)\n",
    "print(f\"Predicted value for input {new_data}: {prediction.item()}\")\n"
   ]
  }
 ],
 "metadata": {
  "kernelspec": {
   "display_name": "env",
   "language": "python",
   "name": "python3"
  },
  "language_info": {
   "name": "python",
   "version": "3.11.2"
  },
  "orig_nbformat": 4
 },
 "nbformat": 4,
 "nbformat_minor": 2
}
